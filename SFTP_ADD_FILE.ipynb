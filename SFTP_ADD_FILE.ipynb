{
  "nbformat": 4,
  "nbformat_minor": 0,
  "metadata": {
    "colab": {
      "name": "SFTP_ADD_FILE.ipynb",
      "provenance": [],
      "collapsed_sections": []
    },
    "kernelspec": {
      "name": "python3",
      "display_name": "Python 3"
    },
    "language_info": {
      "name": "python"
    }
  },
  "cells": [
    {
      "cell_type": "markdown",
      "source": [
        "# **UPLOAD FILE**"
      ],
      "metadata": {
        "id": "O1ZD9LG1R7rn"
      }
    },
    {
      "cell_type": "code",
      "execution_count": 9,
      "metadata": {
        "colab": {
          "resources": {
            "http://localhost:8080/nbextensions/google.colab/files.js": {
              "data": "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",
              "ok": true,
              "headers": [
                [
                  "content-type",
                  "application/javascript"
                ]
              ],
              "status": 200,
              "status_text": ""
            }
          },
          "base_uri": "https://localhost:8080/",
          "height": 1000
        },
        "id": "WIx4t2okqMf0",
        "outputId": "275ed7ea-2261-4971-9951-eeacbe2c0090"
      },
      "outputs": [
        {
          "output_type": "stream",
          "name": "stdout",
          "text": [
            "File Old :\n"
          ]
        },
        {
          "output_type": "display_data",
          "data": {
            "text/plain": [
              "<IPython.core.display.HTML object>"
            ],
            "text/html": [
              "\n",
              "     <input type=\"file\" id=\"files-76505a3f-cce2-43e6-b309-8cfe06c3a132\" name=\"files[]\" multiple disabled\n",
              "        style=\"border:none\" />\n",
              "     <output id=\"result-76505a3f-cce2-43e6-b309-8cfe06c3a132\">\n",
              "      Upload widget is only available when the cell has been executed in the\n",
              "      current browser session. Please rerun this cell to enable.\n",
              "      </output>\n",
              "      <script src=\"/nbextensions/google.colab/files.js\"></script> "
            ]
          },
          "metadata": {}
        },
        {
          "output_type": "stream",
          "name": "stdout",
          "text": [
            "Saving AcquirerDetailReport_20220425_15_BRI_.xlsx to AcquirerDetailReport_20220425_15_BRI_.xlsx\n",
            "Name File Old :  AcquirerDetailReport_20220425_15_BRI_.xlsx\n",
            "OLD  : \n",
            "   HOST              MID       TID BranchCode StoreCode TransactionType  \\\n",
            "0  BRI  000001991697087  10665536       SHZ1      MA02  Prepaid Top Up   \n",
            "1  BRI  000001991693917  10216190       SEZ1      SE96  Prepaid Top Up   \n",
            "2  BRI  000001991697164  10665573       SHZ1      SA65  Prepaid Top Up   \n",
            "3  BRI  000001991693843  10216043       SEZ1      SE65  Prepaid Top Up   \n",
            "4  BRI  000001999108860  10451371       SEZ1      NE24  Prepaid Top Up   \n",
            "\n",
            "  ProcessingCode CardType           CardNum Issuer  ... SettlementDate  \\\n",
            "0         818000    DEBIT  189512******7829    BRI  ...                  \n",
            "1         818000    DEBIT  189512******6887    BRI  ...                  \n",
            "2         818000    DEBIT  189512******7613    BRI  ...                  \n",
            "3         818000    DEBIT  189512******6747    BRI  ...                  \n",
            "4         818000    DEBIT  189512******8473    BRI  ...                  \n",
            "\n",
            "   InvNum BatchNum           RRN ApprovalCode Status ResponseCode  Amount  \\\n",
            "0  000606       28                                 T               200000   \n",
            "1  002640      342  000000790609                   A           00   50000   \n",
            "2  007432       44  000003795411                   A           00   50000   \n",
            "3  008192       82  000003795827                   A           00   50000   \n",
            "4  001955      255  000001797580                   A           00  100000   \n",
            "\n",
            "  Redeem     NET  \n",
            "0      0  200000  \n",
            "1      0   50000  \n",
            "2      0   50000  \n",
            "3      0   50000  \n",
            "4      0  100000  \n",
            "\n",
            "[5 rows x 23 columns]\n",
            "File New :\n"
          ]
        },
        {
          "output_type": "display_data",
          "data": {
            "text/plain": [
              "<IPython.core.display.HTML object>"
            ],
            "text/html": [
              "\n",
              "     <input type=\"file\" id=\"files-4aa10dbb-c65c-4d15-b3c4-3802eae36847\" name=\"files[]\" multiple disabled\n",
              "        style=\"border:none\" />\n",
              "     <output id=\"result-4aa10dbb-c65c-4d15-b3c4-3802eae36847\">\n",
              "      Upload widget is only available when the cell has been executed in the\n",
              "      current browser session. Please rerun this cell to enable.\n",
              "      </output>\n",
              "      <script src=\"/nbextensions/google.colab/files.js\"></script> "
            ]
          },
          "metadata": {}
        },
        {
          "output_type": "stream",
          "name": "stdout",
          "text": [
            "Saving AcquirerDetailReport_20220425_15_BRI_FULL_.xlsx to AcquirerDetailReport_20220425_15_BRI_FULL_.xlsx\n",
            "Name File New :  AcquirerDetailReport_20220425_15_BRI_FULL_.xlsx\n",
            "NEW  : \n",
            "   HOST              MID       TID BranchCode StoreCode TransactionType  \\\n",
            "0  BRI  000001991697565  10253865       SIZ1      SI55  Prepaid Top Up   \n",
            "1  BRI  000001991695722  10217778       SLZ1      MB99  Prepaid Top Up   \n",
            "2  BRI  000001991695521  10215536       SFZ1      AF03  Prepaid Top Up   \n",
            "3  BRI  000001991693849  10216055       SEZ1      SE11  Prepaid Top Up   \n",
            "4  BRI  000001991695599  10217531       SLZ1      SB05  Prepaid Top Up   \n",
            "\n",
            "  ProcessingCode CardType           CardNum Issuer  ... SettlementDate  \\\n",
            "0         818000    DEBIT  189512******9456    BRI  ...                  \n",
            "1         818000    DEBIT  189512******1995    BRI  ...                  \n",
            "2         818000    DEBIT  189512******0421    BRI  ...                  \n",
            "3         818000    DEBIT  189512******6812    BRI  ...                  \n",
            "4         818000    DEBIT  189512******1821    BRI  ...                  \n",
            "\n",
            "   InvNum BatchNum RRN ApprovalCode Status ResponseCode  Amount Redeem     NET  \n",
            "0  017078       47                       R               900000      0  900000  \n",
            "1  009621      250                       R               100000      0  100000  \n",
            "2  000689      132                       R               150000      0  150000  \n",
            "3  006870       18                       R                50000      0   50000  \n",
            "4  008108       11                       R               150000      0  150000  \n",
            "\n",
            "[5 rows x 23 columns]\n",
            "\n",
            "\n",
            "\n",
            "Numbers of row in old    :  807\n",
            "Numbers of row in new    :  1359\n",
            "Numbers of row in output :  552\n"
          ]
        }
      ],
      "source": [
        "import pandas as pd\n",
        "import io\n",
        "from google.colab import files\n",
        "\n",
        "# Upload file old\n",
        "print('File Old :')\n",
        "file_old = files.upload()\n",
        "file_old_str = str(file_old)\n",
        "file_old_str = file_old_str.split(\"'\")\n",
        "file_old_str_name = file_old_str[1]\n",
        "print('Name File Old : ',file_old_str_name)\n",
        "file_old = pd.read_excel(file_old_str_name, dtype='object')\n",
        "print('OLD  : \\n', file_old.head(5))\n",
        "\n",
        "# Upload file new\n",
        "print('File New :')\n",
        "file_new = files.upload()\n",
        "file_new_str = str(file_new)\n",
        "file_new_str = file_new_str.split(\"'\")\n",
        "file_new_str_name = file_new_str[1]\n",
        "print('Name File New : ',file_new_str_name)\n",
        "file_new = pd.read_excel(file_new_str_name, dtype='object')\n",
        "print('NEW  : \\n', file_new.head(5))\n",
        "\n",
        "#Detail\n",
        "print(\"\\n\\n\")\n",
        "print(\"Numbers of row in old    : \", file_old.shape[0])\n",
        "print(\"Numbers of row in new    : \", file_new.shape[0])\n",
        "print(\"Numbers of row in output : \", file_new.shape[0] - file_old.shape[0])"
      ]
    },
    {
      "cell_type": "markdown",
      "source": [
        "# **COMBINE EXCEL FILE**"
      ],
      "metadata": {
        "id": "iqFYyG3oSCQe"
      }
    },
    {
      "cell_type": "code",
      "source": [
        "# Combine old file and new file \n",
        "\n",
        "array_combine = []\n",
        "\n",
        "array_combine.append(file_new)\n",
        "array_combine.append(file_old)\n",
        "\n",
        "excel_combine = pd.concat(array_combine,ignore_index=True)\n",
        "print(excel_combine.head(10))"
      ],
      "metadata": {
        "colab": {
          "base_uri": "https://localhost:8080/"
        },
        "id": "w66V3taCz6tC",
        "outputId": "9cd5d361-5264-42e4-99b3-f2feb3182406"
      },
      "execution_count": 10,
      "outputs": [
        {
          "output_type": "stream",
          "name": "stdout",
          "text": [
            "  HOST              MID       TID BranchCode StoreCode TransactionType  \\\n",
            "0  BRI  000001991697565  10253865       SIZ1      SI55  Prepaid Top Up   \n",
            "1  BRI  000001991695722  10217778       SLZ1      MB99  Prepaid Top Up   \n",
            "2  BRI  000001991695521  10215536       SFZ1      AF03  Prepaid Top Up   \n",
            "3  BRI  000001991693849  10216055       SEZ1      SE11  Prepaid Top Up   \n",
            "4  BRI  000001991695599  10217531       SLZ1      SB05  Prepaid Top Up   \n",
            "5  BRI  000001991695357  10215208       SFZ1      AF82  Prepaid Top Up   \n",
            "6  BRI  000001991697258  10219334       SHZ1      MC81  Prepaid Top Up   \n",
            "7  BRI  000001991697087  10665536       SHZ1      MA02  Prepaid Top Up   \n",
            "8  BRI  000001991693917  10216190       SEZ1      SE96  Prepaid Top Up   \n",
            "9  BRI  000001991697164  10665573       SHZ1      SA65  Prepaid Top Up   \n",
            "\n",
            "  ProcessingCode CardType           CardNum Issuer  ... SettlementDate  \\\n",
            "0         818000    DEBIT  189512******9456    BRI  ...                  \n",
            "1         818000    DEBIT  189512******1995    BRI  ...                  \n",
            "2         818000    DEBIT  189512******0421    BRI  ...                  \n",
            "3         818000    DEBIT  189512******6812    BRI  ...                  \n",
            "4         818000    DEBIT  189512******1821    BRI  ...                  \n",
            "5         818000    DEBIT  189512******9779    BRI  ...                  \n",
            "6         818000    DEBIT  189512******3108    BRI  ...                  \n",
            "7         818000    DEBIT  189512******7829    BRI  ...                  \n",
            "8         818000    DEBIT  189512******6887    BRI  ...                  \n",
            "9         818000    DEBIT  189512******7613    BRI  ...                  \n",
            "\n",
            "   InvNum BatchNum           RRN ApprovalCode Status ResponseCode  Amount  \\\n",
            "0  017078       47                                 R               900000   \n",
            "1  009621      250                                 R               100000   \n",
            "2  000689      132                                 R               150000   \n",
            "3  006870       18                                 R                50000   \n",
            "4  008108       11                                 R               150000   \n",
            "5  001891       87                                 R                50000   \n",
            "6  007085      266                                 R               500000   \n",
            "7  000606       28                                 R               200000   \n",
            "8  002640      342  000000790609                   A           00   50000   \n",
            "9  007432       44  000003795411                   A           00   50000   \n",
            "\n",
            "  Redeem     NET  \n",
            "0      0  900000  \n",
            "1      0  100000  \n",
            "2      0  150000  \n",
            "3      0   50000  \n",
            "4      0  150000  \n",
            "5      0   50000  \n",
            "6      0  500000  \n",
            "7      0  200000  \n",
            "8      0   50000  \n",
            "9      0   50000  \n",
            "\n",
            "[10 rows x 23 columns]\n"
          ]
        }
      ]
    },
    {
      "cell_type": "markdown",
      "source": [
        "# **FILTERING DUPLICATE**"
      ],
      "metadata": {
        "id": "JIKEkQgISMPp"
      }
    },
    {
      "cell_type": "code",
      "source": [
        "select_duplicate = excel_combine.drop_duplicates(subset = ['InvNum','TransactionDate','Amount'],keep = False)\n",
        "print(\"Hasil Row : \",select_duplicate.shape[0])"
      ],
      "metadata": {
        "colab": {
          "base_uri": "https://localhost:8080/"
        },
        "id": "nx3Q3ClP-51w",
        "outputId": "5f66ce95-6350-4c5a-d84e-9818449adc4f"
      },
      "execution_count": 11,
      "outputs": [
        {
          "output_type": "stream",
          "name": "stdout",
          "text": [
            "Hasil Row :  552\n"
          ]
        }
      ]
    },
    {
      "cell_type": "markdown",
      "source": [
        "# **SAVE AND DOWNLOAD FILE**"
      ],
      "metadata": {
        "id": "nkIlrDbaSUXe"
      }
    },
    {
      "cell_type": "code",
      "source": [
        "split_name_file = file_new_str_name.split('.')\n",
        "select_duplicate.to_csv(f'{split_name_file[0]}_add.csv',index=False)\n",
        "files.download(f'{split_name_file[0]}_add.csv')"
      ],
      "metadata": {
        "id": "xFJEXPT9By2a",
        "colab": {
          "base_uri": "https://localhost:8080/",
          "height": 17
        },
        "outputId": "0172836f-a460-47ec-9435-81b81305c4d5"
      },
      "execution_count": 12,
      "outputs": [
        {
          "output_type": "display_data",
          "data": {
            "text/plain": [
              "<IPython.core.display.Javascript object>"
            ],
            "application/javascript": [
              "\n",
              "    async function download(id, filename, size) {\n",
              "      if (!google.colab.kernel.accessAllowed) {\n",
              "        return;\n",
              "      }\n",
              "      const div = document.createElement('div');\n",
              "      const label = document.createElement('label');\n",
              "      label.textContent = `Downloading \"${filename}\": `;\n",
              "      div.appendChild(label);\n",
              "      const progress = document.createElement('progress');\n",
              "      progress.max = size;\n",
              "      div.appendChild(progress);\n",
              "      document.body.appendChild(div);\n",
              "\n",
              "      const buffers = [];\n",
              "      let downloaded = 0;\n",
              "\n",
              "      const channel = await google.colab.kernel.comms.open(id);\n",
              "      // Send a message to notify the kernel that we're ready.\n",
              "      channel.send({})\n",
              "\n",
              "      for await (const message of channel.messages) {\n",
              "        // Send a message to notify the kernel that we're ready.\n",
              "        channel.send({})\n",
              "        if (message.buffers) {\n",
              "          for (const buffer of message.buffers) {\n",
              "            buffers.push(buffer);\n",
              "            downloaded += buffer.byteLength;\n",
              "            progress.value = downloaded;\n",
              "          }\n",
              "        }\n",
              "      }\n",
              "      const blob = new Blob(buffers, {type: 'application/binary'});\n",
              "      const a = document.createElement('a');\n",
              "      a.href = window.URL.createObjectURL(blob);\n",
              "      a.download = filename;\n",
              "      div.appendChild(a);\n",
              "      a.click();\n",
              "      div.remove();\n",
              "    }\n",
              "  "
            ]
          },
          "metadata": {}
        },
        {
          "output_type": "display_data",
          "data": {
            "text/plain": [
              "<IPython.core.display.Javascript object>"
            ],
            "application/javascript": [
              "download(\"download_254bf8c1-af73-47ad-994a-c4ddb6bfbd2b\", \"AcquirerDetailReport_20220425_15_BRI_FULL__add.csv\", 93860)"
            ]
          },
          "metadata": {}
        }
      ]
    }
  ]
}